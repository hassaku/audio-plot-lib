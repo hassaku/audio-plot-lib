{
  "nbformat": 4,
  "nbformat_minor": 0,
  "metadata": {
    "colab": {
      "name": "audio-plot-lib-example.ipynb",
      "provenance": [],
      "collapsed_sections": []
    },
    "kernelspec": {
      "display_name": "Python 3",
      "name": "python3"
    }
  },
  "cells": [
    {
      "cell_type": "markdown",
      "metadata": {
        "id": "XZo3sPO7SSQD"
      },
      "source": [
        "# audio-plot-lib\n",
        "\n",
        "Python library to converts a graph data to sound on Google Colab. Values are represented by pitches, and the timeline is represented by left and right pans. It was created to make data science fun for the visually impaired.\n",
        "\n",
        "Note that when the session expires, the plot must be rerun as well, or the sound will not be heard."
      ]
    },
    {
      "cell_type": "markdown",
      "metadata": {
        "id": "DFjA4j68Sg3A"
      },
      "source": [
        "# Setup for screen reader user"
      ]
    },
    {
      "cell_type": "code",
      "metadata": {
        "id": "ucE-W_guZebU"
      },
      "source": [
        "!pip install colab-a11y-utils\n",
        "from colab_a11y_utils import set_sound_notifications\n",
        "set_sound_notifications()"
      ],
      "execution_count": null,
      "outputs": []
    },
    {
      "cell_type": "markdown",
      "metadata": {
        "id": "bAKlt8RpSXt8"
      },
      "source": [
        "# Install"
      ]
    },
    {
      "cell_type": "code",
      "metadata": {
        "id": "hADaD1j8aQiV"
      },
      "source": [
        "# stable\n",
        "!pip install audio-plot-lib\n",
        "\n",
        "# latest\n",
        "#!pip install --upgrade git+https://github.com/hassaku/audio-plot-lib.git"
      ],
      "execution_count": null,
      "outputs": []
    },
    {
      "cell_type": "code",
      "metadata": {
        "id": "9WT02Hm0aWzT"
      },
      "source": [
        "import audio_plot_lib as apl"
      ],
      "execution_count": null,
      "outputs": []
    },
    {
      "cell_type": "markdown",
      "metadata": {
        "id": "9dGn4hITQ69B"
      },
      "source": [
        "# Intaractive plot\n",
        "\n",
        "## Basic usage"
      ]
    },
    {
      "cell_type": "code",
      "metadata": {
        "id": "FXNK1SMmjcYM"
      },
      "source": [
        "apl.interactive.plot([0, 1, 2, 3, 2, 1, 0])"
      ],
      "execution_count": null,
      "outputs": []
    },
    {
      "cell_type": "markdown",
      "metadata": {
        "id": "uXX7K2psBR0O"
      },
      "source": [
        "## Multiple group of data"
      ]
    },
    {
      "cell_type": "code",
      "metadata": {
        "id": "3TERDaiudiye"
      },
      "source": [
        "data1 = [0, 1, 2, 3, 2, 1, 0]\n",
        "label1 = [0, 0, 0, 0, 0, 0, 0]\n",
        "data2 = [3, 2, 1, 0, 1, 2, 3]\n",
        "label2 = [1, 1, 1, 1, 1, 1, 1]\n",
        "apl.interactive.plot(data1 + data2, label=label1 + label2)"
      ],
      "execution_count": null,
      "outputs": []
    },
    {
      "cell_type": "markdown",
      "metadata": {
        "id": "t4LgaIfYQ-02"
      },
      "source": [
        "## Simple example in machine learning\n"
      ]
    },
    {
      "cell_type": "code",
      "metadata": {
        "id": "mqTmJzwMRFaw"
      },
      "source": [
        "import numpy as np\n",
        "from sklearn.linear_model import LogisticRegression\n",
        "\n",
        "data = []  # 2 dimentional array of x1, x2\n",
        "label = []  # list of classification number of 0 or 1\n",
        "\n",
        "# sample 1\n",
        "data.append([0.2, 0.4])\n",
        "label.append(0)\n",
        "\n",
        "# sample 2\n",
        "data.append([0.5, 0.3])\n",
        "label.append(0)\n",
        "\n",
        "# sample 3\n",
        "data.append([0.5, 0.9])\n",
        "label.append(1)\n",
        "\n",
        "# sample 4\n",
        "data.append([0.7, 0.8])\n",
        "label.append(1)\n",
        "\n",
        "# convert data to numpy to handle with scikit learn\n",
        "data = np.array(data)\n",
        "label = np.array(label)\n",
        "\n",
        "# classification by machine learning\n",
        "classifier = LogisticRegression().fit(data, label)\n",
        "slope = classifier.coef_[0][0]\n",
        "intercept = classifier.coef_[0][1]\n",
        "decision_boundary_x = np.arange(0, 1, 0.1)\n",
        "decision_boundary_y = slope * decision_boundary_x + intercept\n",
        "\n",
        "plot_data_x = data[:, 0].tolist() + decision_boundary_x.tolist()\n",
        "plot_data_y = data[:, 1].tolist() + decision_boundary_y.tolist()\n",
        "plot_label = label.tolist() + [2]*len(decision_boundary_x) # 0 and 1 are label of data. 2 is decision boundary\n",
        "\n",
        "apl.interactive.plot(y=plot_data_y, x=plot_data_x, label=plot_label,\n",
        "                     margin_x=0.1, title=\"linear regression\")"
      ],
      "execution_count": null,
      "outputs": []
    },
    {
      "cell_type": "markdown",
      "metadata": {
        "id": "FqdQjDnRki5Y"
      },
      "source": [
        "## prediction"
      ]
    },
    {
      "cell_type": "code",
      "metadata": {
        "id": "JzKczb0bRK2I"
      },
      "source": [
        "new_data = np.array([[0.3, 0.7]])\n",
        "prediction = classifier.predict(new_data)\n",
        "\n",
        "print(f\"predicted label of x1:{new_data[0][0]} and x2:{new_data[0][1]} is {prediction[0]}\")"
      ],
      "execution_count": null,
      "outputs": []
    },
    {
      "cell_type": "markdown",
      "metadata": {
        "id": "4L-JrNybA7Yj"
      },
      "source": [
        "## Parameters\n",
        "\n",
        "By specifying width and height, you can change the size of the graph image; by specifying margin_x, you can adjust the timing of sound emission for a point on the graph; by specifying title, you can change the name of the text to be read out when the mouse is over the image. By specifying title, you can change the name that is read out loud when the mouse enters the image.\n"
      ]
    },
    {
      "cell_type": "code",
      "metadata": {
        "id": "4fDH1UEIoC8W"
      },
      "source": [
        "apl.interactive.plot([0, 1, 2, 3, 4, 5, 4, 3, 2, 1, 0], width=500, height=100, margin_x=1, title=\"parameters graph\")"
      ],
      "execution_count": null,
      "outputs": []
    },
    {
      "cell_type": "markdown",
      "metadata": {
        "id": "1LHLHmklAzsP"
      },
      "source": [
        "# Playable plot"
      ]
    },
    {
      "cell_type": "markdown",
      "metadata": {
        "id": "0Fc9Y4Ywqd1b"
      },
      "source": [
        "## Basic usage"
      ]
    },
    {
      "cell_type": "code",
      "metadata": {
        "id": "VFXV5LlaAzKc"
      },
      "source": [
        "apl.playable.plot([0, 1, 2, 3, 2, 1, 0], duration=500)"
      ],
      "execution_count": null,
      "outputs": []
    },
    {
      "cell_type": "markdown",
      "metadata": {
        "id": "OpP87C2YRMQb"
      },
      "source": [
        "## Parameters\n",
        "\n",
        "Note that the parameters are not compatible with those of interactive.plot. \n",
        "\n",
        "Let's play the two inverted sine waves simultaneously with the option overlay."
      ]
    },
    {
      "cell_type": "code",
      "metadata": {
        "id": "5Fi0S0w1RLDA"
      },
      "source": [
        "sin = np.sin(np.arange(0, np.pi*2, 0.1))  # 0,  0.09983342,  0.19866933,  0.29552021,  0.38941834, ...\n",
        "two_inverted_sin = np.array([sin, -1 * sin]).T\n",
        "\n",
        "apl.playable.plot(two_inverted_sin, ptype=\"overlay\")"
      ],
      "execution_count": null,
      "outputs": []
    },
    {
      "cell_type": "markdown",
      "metadata": {
        "id": "dhu7AzMkvBMZ"
      },
      "source": [
        "Each data can be conveniently labeled.\n",
        "\n",
        "Let's compare corona patients in New York and Texas."
      ]
    },
    {
      "cell_type": "code",
      "metadata": {
        "id": "zJSAF6bpRLKz"
      },
      "source": [
        "import pandas as pd\n",
        "df = pd.read_csv(\"https://raw.githubusercontent.com/nytimes/covid-19-data/master/us-states.csv\")\n",
        "new_york = df[(df.state == \"New York\") & (df.date > \"2020-03-01\")].cases.values\n",
        "texas = df[(df.state == \"Texas\") & (df.date > \"2020-03-01\")].cases.values\n",
        "new_york_and_texas_cases_since_march = np.array([new_york, texas]).T\n",
        "\n",
        "apl.playable.plot(new_york_and_texas_cases_since_march, labels=[\"new york\", \"texas\"])"
      ],
      "execution_count": null,
      "outputs": []
    }
  ]
}
